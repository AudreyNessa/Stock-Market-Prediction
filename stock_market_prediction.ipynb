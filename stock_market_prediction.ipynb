{
  "cells": [
    {
      "cell_type": "markdown",
      "metadata": {
        "id": "view-in-github",
        "colab_type": "text"
      },
      "source": [
        "<a href=\"https://colab.research.google.com/github/AudreyNessa/Stock-Market-Prediction/blob/main/stock_market_prediction.ipynb\" target=\"_parent\"><img src=\"https://colab.research.google.com/assets/colab-badge.svg\" alt=\"Open In Colab\"/></a>"
      ]
    },
    {
      "cell_type": "code",
      "execution_count": null,
      "id": "3488a960",
      "metadata": {
        "_cell_guid": "b1076dfc-b9ad-4769-8c92-a6c4dae69d19",
        "_uuid": "8f2839f25d086af736a60e9eeb907d3b93b6e0e5",
        "execution": {
          "iopub.execute_input": "2023-05-26T10:26:36.914058Z",
          "iopub.status.busy": "2023-05-26T10:26:36.913648Z",
          "iopub.status.idle": "2023-05-26T10:26:36.946205Z",
          "shell.execute_reply": "2023-05-26T10:26:36.944686Z"
        },
        "papermill": {
          "duration": 0.043666,
          "end_time": "2023-05-26T10:26:36.948627",
          "exception": false,
          "start_time": "2023-05-26T10:26:36.904961",
          "status": "completed"
        },
        "tags": [],
        "id": "3488a960",
        "outputId": "8a87c181-b0d5-4273-9863-b6dc77c1565a"
      },
      "outputs": [
        {
          "name": "stdout",
          "output_type": "stream",
          "text": [
            "/kaggle/input/axis-bank/AXISBANK.NS (1).csv\n",
            "/kaggle/input/india-headlines-news-dataset/india-news-headlines.csv\n"
          ]
        }
      ],
      "source": [
        "# This Python 3 environment comes with many helpful analytics libraries installed\n",
        "# It is defined by the kaggle/python Docker image: https://github.com/kaggle/docker-python\n",
        "# For example, here's several helpful packages to load\n",
        "\n",
        "import numpy as np # linear algebra\n",
        "import pandas as pd # data processing, CSV file I/O (e.g. pd.read_csv)\n",
        "\n",
        "# Input data files are available in the read-only \"../input/\" directory\n",
        "# For example, running this (by clicking run or pressing Shift+Enter) will list all files under the input directory\n",
        "\n",
        "import os\n",
        "for dirname, _, filenames in os.walk('/kaggle/input'):\n",
        "    for filename in filenames:\n",
        "        print(os.path.join(dirname, filename))\n",
        "\n",
        "# You can write up to 20GB to the current directory (/kaggle/working/) that gets preserved as output when you create a version using \"Save & Run All\" \n",
        "# You can also write temporary files to /kaggle/temp/, but they won't be saved outside of the current session"
      ]
    },
    {
      "cell_type": "code",
      "execution_count": null,
      "id": "a37b3274",
      "metadata": {
        "execution": {
          "iopub.execute_input": "2023-05-26T10:26:36.965610Z",
          "iopub.status.busy": "2023-05-26T10:26:36.965216Z",
          "iopub.status.idle": "2023-05-26T10:26:52.835086Z",
          "shell.execute_reply": "2023-05-26T10:26:52.833234Z"
        },
        "papermill": {
          "duration": 15.88223,
          "end_time": "2023-05-26T10:26:52.838282",
          "exception": false,
          "start_time": "2023-05-26T10:26:36.956052",
          "status": "completed"
        },
        "tags": [],
        "id": "a37b3274",
        "outputId": "19bdc61f-6946-47ca-aa12-2036ffe967f3"
      },
      "outputs": [
        {
          "name": "stdout",
          "output_type": "stream",
          "text": [
            "Collecting openai\r\n",
            "  Downloading openai-0.27.7-py3-none-any.whl (71 kB)\r\n",
            "\u001b[2K     \u001b[90m━━━━━━━━━━━━━━━━━━━━━━━━━━━━━━━━━━━━━━━━\u001b[0m \u001b[32m72.0/72.0 kB\u001b[0m \u001b[31m3.6 MB/s\u001b[0m eta \u001b[36m0:00:00\u001b[0m\r\n",
            "\u001b[?25hRequirement already satisfied: aiohttp in /opt/conda/lib/python3.10/site-packages (from openai) (3.8.4)\r\n",
            "Requirement already satisfied: tqdm in /opt/conda/lib/python3.10/site-packages (from openai) (4.64.1)\r\n",
            "Requirement already satisfied: requests>=2.20 in /opt/conda/lib/python3.10/site-packages (from openai) (2.28.2)\r\n",
            "Requirement already satisfied: certifi>=2017.4.17 in /opt/conda/lib/python3.10/site-packages (from requests>=2.20->openai) (2022.12.7)\r\n",
            "Requirement already satisfied: charset-normalizer<4,>=2 in /opt/conda/lib/python3.10/site-packages (from requests>=2.20->openai) (2.1.1)\r\n",
            "Requirement already satisfied: idna<4,>=2.5 in /opt/conda/lib/python3.10/site-packages (from requests>=2.20->openai) (3.4)\r\n",
            "Requirement already satisfied: urllib3<1.27,>=1.21.1 in /opt/conda/lib/python3.10/site-packages (from requests>=2.20->openai) (1.26.15)\r\n",
            "Requirement already satisfied: async-timeout<5.0,>=4.0.0a3 in /opt/conda/lib/python3.10/site-packages (from aiohttp->openai) (4.0.2)\r\n",
            "Requirement already satisfied: yarl<2.0,>=1.0 in /opt/conda/lib/python3.10/site-packages (from aiohttp->openai) (1.8.2)\r\n",
            "Requirement already satisfied: frozenlist>=1.1.1 in /opt/conda/lib/python3.10/site-packages (from aiohttp->openai) (1.3.3)\r\n",
            "Requirement already satisfied: multidict<7.0,>=4.5 in /opt/conda/lib/python3.10/site-packages (from aiohttp->openai) (6.0.4)\r\n",
            "Requirement already satisfied: attrs>=17.3.0 in /opt/conda/lib/python3.10/site-packages (from aiohttp->openai) (22.2.0)\r\n",
            "Requirement already satisfied: aiosignal>=1.1.2 in /opt/conda/lib/python3.10/site-packages (from aiohttp->openai) (1.3.1)\r\n",
            "Installing collected packages: openai\r\n",
            "Successfully installed openai-0.27.7\r\n",
            "\u001b[33mWARNING: Running pip as the 'root' user can result in broken permissions and conflicting behaviour with the system package manager. It is recommended to use a virtual environment instead: https://pip.pypa.io/warnings/venv\u001b[0m\u001b[33m\r\n",
            "\u001b[0m"
          ]
        },
        {
          "name": "stderr",
          "output_type": "stream",
          "text": [
            "/opt/conda/lib/python3.10/site-packages/scipy/__init__.py:146: UserWarning: A NumPy version >=1.16.5 and <1.23.0 is required for this version of SciPy (detected version 1.23.5\n",
            "  warnings.warn(f\"A NumPy version >={np_minversion} and <{np_maxversion}\"\n"
          ]
        }
      ],
      "source": [
        "!pip install openai\n",
        "#more libraries\n",
        "import json\n",
        "import matplotlib.pyplot as plt\n",
        "import openai\n",
        "from scipy.signal import periodogram\n",
        "from sklearn.linear_model import LinearRegression\n",
        "from sklearn.metrics import mean_absolute_error\n",
        "from sklearn.model_selection import train_test_split\n",
        "from sklearn.neighbors import KNeighborsRegressor\n",
        "from sklearn.pipeline import Pipeline\n",
        "from statsmodels.tsa.deterministic import CalendarFourier, DeterministicProcess\n",
        "import time\n",
        "from xgboost import XGBRegressor\n",
        "\n",
        "#set the api key for open ai\n",
        "from kaggle_secrets import UserSecretsClient\n",
        "user_secrets = UserSecretsClient()\n",
        "OPENAI_API_KEY = user_secrets.get_secret(\"openaikey\")\n",
        "openai.api_key = OPENAI_API_KEY"
      ]
    },
    {
      "cell_type": "code",
      "execution_count": null,
      "id": "6501f8a0",
      "metadata": {
        "execution": {
          "iopub.execute_input": "2023-05-26T10:26:52.856368Z",
          "iopub.status.busy": "2023-05-26T10:26:52.855500Z",
          "iopub.status.idle": "2023-05-26T10:26:52.864062Z",
          "shell.execute_reply": "2023-05-26T10:26:52.862504Z"
        },
        "papermill": {
          "duration": 0.020908,
          "end_time": "2023-05-26T10:26:52.867002",
          "exception": false,
          "start_time": "2023-05-26T10:26:52.846094",
          "status": "completed"
        },
        "tags": [],
        "id": "6501f8a0"
      },
      "outputs": [],
      "source": [
        "def get_completion(prompt, model=\"gpt-3.5-turbo\"):\n",
        "    \"\"\"\n",
        "    Returns answers to the prompt\n",
        "    \"\"\"\n",
        "    messages = [{\"role\": \"user\", \"content\":prompt}]\n",
        "    response = openai.ChatCompletion.create(\n",
        "        model = model,\n",
        "        messages = messages,\n",
        "        temperature = 0\n",
        "    )\n",
        "    return response.choices[0].message[\"content\"]"
      ]
    },
    {
      "cell_type": "code",
      "execution_count": null,
      "id": "0baa2efb",
      "metadata": {
        "execution": {
          "iopub.execute_input": "2023-05-26T10:26:52.885724Z",
          "iopub.status.busy": "2023-05-26T10:26:52.885228Z",
          "iopub.status.idle": "2023-05-26T10:27:00.689729Z",
          "shell.execute_reply": "2023-05-26T10:27:00.687999Z"
        },
        "papermill": {
          "duration": 7.817413,
          "end_time": "2023-05-26T10:27:00.692213",
          "exception": false,
          "start_time": "2023-05-26T10:26:52.874800",
          "status": "completed"
        },
        "tags": [],
        "id": "0baa2efb",
        "outputId": "c1beb129-8e32-4539-8e72-10cd84497666"
      },
      "outputs": [
        {
          "name": "stdout",
          "output_type": "stream",
          "text": [
            "News Dataset \n",
            "         publish_date              headline_category  \\\n",
            "0            20010102                        unknown   \n",
            "1            20010102                        unknown   \n",
            "2            20010102                        unknown   \n",
            "3            20010102                        unknown   \n",
            "4            20010102                        unknown   \n",
            "...               ...                            ...   \n",
            "3650965      20220331                  city.srinagar   \n",
            "3650966      20220331  entertainment.hindi.bollywood   \n",
            "3650967      20220331                    city.trichy   \n",
            "3650968      20220331                     city.erode   \n",
            "3650969      20220331                     city.salem   \n",
            "\n",
            "                                             headline_text  \n",
            "0        Status quo will not be disturbed at Ayodhya; s...  \n",
            "1                      Fissures in Hurriyat over Pak visit  \n",
            "2                    America's unwanted heading for India?  \n",
            "3                       For bigwigs; it is destination Goa  \n",
            "4                     Extra buses to clear tourist traffic  \n",
            "...                                                    ...  \n",
            "3650965  J&K sacks 2 cops; 3 other employees over terro...  \n",
            "3650966  Ranbir Kapoor says 'Rishi Kapoor enjoyed his a...  \n",
            "3650967  As Covid-19 cases drop to nil in southern dist...  \n",
            "3650968  Tamil Nadu sees marginal rise of Covid cases w...  \n",
            "3650969  Tamil Nadu sees marginal rise of Covid cases w...  \n",
            "\n",
            "[3650970 rows x 3 columns]\n",
            "\n",
            "Stock prices \n",
            "            Date        Open        High         Low       Close   Adj Close  \\\n",
            "0     1998-11-27    3.550000    3.550000    2.710000    3.400000    2.257743   \n",
            "1     1998-11-30    3.250000    3.300000    3.100000    3.210000    2.131576   \n",
            "2     1998-12-01    3.290000    3.460000    3.220000    3.390000    2.251103   \n",
            "3     1998-12-02    3.360000    3.440000    3.320000    3.390000    2.251103   \n",
            "4     1998-12-03    3.440000    3.490000    3.370000    3.390000    2.251103   \n",
            "...          ...         ...         ...         ...         ...         ...   \n",
            "6129  2023-05-15  910.650024  919.500000  909.150024  915.799988  915.799988   \n",
            "6130  2023-05-16  916.200012  922.500000  912.000000  917.799988  917.799988   \n",
            "6131  2023-05-17  917.700012  918.900024  911.250000  914.799988  914.799988   \n",
            "6132  2023-05-18  920.000000  929.500000  912.599976  914.700012  914.700012   \n",
            "6133  2023-05-19  920.900024  927.000000  908.950012  924.049988  924.049988   \n",
            "\n",
            "          Volume  \n",
            "0        21000.0  \n",
            "1       132000.0  \n",
            "2       123500.0  \n",
            "3        75500.0  \n",
            "4       102000.0  \n",
            "...          ...  \n",
            "6129   7339579.0  \n",
            "6130  12567615.0  \n",
            "6131  10248327.0  \n",
            "6132  13614127.0  \n",
            "6133   8393002.0  \n",
            "\n",
            "[6134 rows x 7 columns]\n"
          ]
        }
      ],
      "source": [
        "#read the datasets\n",
        "news = pd.read_csv(\"/kaggle/input/india-headlines-news-dataset/india-news-headlines.csv\")\n",
        "stock_prices = pd.read_csv(\"/kaggle/input/axis-bank/AXISBANK.NS (1).csv\")\n",
        "\n",
        "print(f\"News Dataset \\n{news}\\n\")\n",
        "print(f\"Stock prices \\n{stock_prices}\")"
      ]
    },
    {
      "cell_type": "code",
      "execution_count": null,
      "id": "416cb8b4",
      "metadata": {
        "execution": {
          "iopub.execute_input": "2023-05-26T10:27:00.708899Z",
          "iopub.status.busy": "2023-05-26T10:27:00.708464Z",
          "iopub.status.idle": "2023-05-26T10:27:01.208133Z",
          "shell.execute_reply": "2023-05-26T10:27:01.206746Z"
        },
        "papermill": {
          "duration": 0.510844,
          "end_time": "2023-05-26T10:27:01.210721",
          "exception": false,
          "start_time": "2023-05-26T10:27:00.699877",
          "status": "completed"
        },
        "tags": [],
        "id": "416cb8b4"
      },
      "outputs": [],
      "source": [
        "#make the date columns the indices of the datasets\n",
        "news[\"publish_date\"] = pd.to_datetime(news[\"publish_date\"], format=\"%Y%m%d\")\n",
        "news = news.set_index(\"publish_date\").to_period('M')\n",
        "\n",
        "stock_prices[\"Date\"] = pd.to_datetime(stock_prices[\"Date\"], format=\"%Y-%m-%d\")\n",
        "stock_prices = stock_prices.set_index(\"Date\").to_period('D')\n"
      ]
    },
    {
      "cell_type": "markdown",
      "id": "74ba4bb3",
      "metadata": {
        "papermill": {
          "duration": 0.007207,
          "end_time": "2023-05-26T10:27:01.226626",
          "exception": false,
          "start_time": "2023-05-26T10:27:01.219419",
          "status": "completed"
        },
        "tags": [],
        "id": "74ba4bb3"
      },
      "source": [
        "# Numerical Analysis"
      ]
    },
    {
      "cell_type": "code",
      "execution_count": null,
      "id": "2a2d08ce",
      "metadata": {
        "execution": {
          "iopub.execute_input": "2023-05-26T10:27:01.244429Z",
          "iopub.status.busy": "2023-05-26T10:27:01.243867Z",
          "iopub.status.idle": "2023-05-26T10:27:01.254528Z",
          "shell.execute_reply": "2023-05-26T10:27:01.252723Z"
        },
        "papermill": {
          "duration": 0.023582,
          "end_time": "2023-05-26T10:27:01.257777",
          "exception": false,
          "start_time": "2023-05-26T10:27:01.234195",
          "status": "completed"
        },
        "tags": [],
        "id": "2a2d08ce"
      },
      "outputs": [],
      "source": [
        "#function definitions\n",
        "def plot_periodogram(ts, detrend=\"linear\", ax=None):\n",
        "    \"\"\"\n",
        "    Plots a periodogram to know how many fourier pairs to include in our feature set\n",
        "    \"\"\"\n",
        "    fs = pd.Timedelta(\"1Y\") / pd.Timedelta(\"1D\")\n",
        "    frequencies, spectrum = periodogram(\n",
        "        ts,\n",
        "        fs=fs,\n",
        "        detrend=detrend, \n",
        "        window=\"boxcar\",\n",
        "        scaling=\"spectrum\"\n",
        "    )\n",
        "    \n",
        "    if ax is None:\n",
        "        _, ax = plt.subplots()\n",
        "        ax.step(frequencies, spectrum, color=\"red\") \n",
        "        ax.set_xscale(\"log\")\n",
        "        ax.set_xticks([1, 2, 4, 6, 12, 26, 52, 104])\n",
        "        ax.set_xticklabels([\n",
        "            \"Annual (1)\",\n",
        "            \"Semiannual (2)\",\n",
        "            \"Quarterly (4)\", \n",
        "            \"Bimonthly (6)\", \n",
        "            \"Monthly (12)\", \n",
        "            \"Biweekly (26)\",\n",
        "            \"Weekly (52)\",\n",
        "            \"Semiweekly (104)\"\n",
        "        ], rotation=30)\n",
        "        ax.set_ylabel(\"Variance\")\n",
        "        ax.set_title(\"Periodogram\")\n",
        "        return ax"
      ]
    },
    {
      "cell_type": "code",
      "execution_count": null,
      "id": "deeb4d1f",
      "metadata": {
        "execution": {
          "iopub.execute_input": "2023-05-26T10:27:01.277199Z",
          "iopub.status.busy": "2023-05-26T10:27:01.276703Z",
          "iopub.status.idle": "2023-05-26T10:27:01.287630Z",
          "shell.execute_reply": "2023-05-26T10:27:01.285711Z"
        },
        "papermill": {
          "duration": 0.024923,
          "end_time": "2023-05-26T10:27:01.290884",
          "exception": false,
          "start_time": "2023-05-26T10:27:01.265961",
          "status": "completed"
        },
        "tags": [],
        "id": "deeb4d1f"
      },
      "outputs": [],
      "source": [
        "#make stock prices dataset have the same starting date with the news dataset\n",
        "y = stock_prices.loc[\"2001-01-01\":][\"Adj Close\"]\n",
        "y.columns = [\"Prices\"]\n",
        "y = y.squeeze() #change from dataframe to series"
      ]
    },
    {
      "cell_type": "markdown",
      "id": "d15eded3",
      "metadata": {
        "papermill": {
          "duration": 0.00771,
          "end_time": "2023-05-26T10:27:01.307522",
          "exception": false,
          "start_time": "2023-05-26T10:27:01.299812",
          "status": "completed"
        },
        "tags": [],
        "id": "d15eded3"
      },
      "source": [
        "****Clean and Preprocess Data****"
      ]
    },
    {
      "cell_type": "code",
      "execution_count": null,
      "id": "3553dfb5",
      "metadata": {
        "execution": {
          "iopub.execute_input": "2023-05-26T10:27:01.326498Z",
          "iopub.status.busy": "2023-05-26T10:27:01.326064Z",
          "iopub.status.idle": "2023-05-26T10:27:01.333272Z",
          "shell.execute_reply": "2023-05-26T10:27:01.331714Z"
        },
        "papermill": {
          "duration": 0.020233,
          "end_time": "2023-05-26T10:27:01.335662",
          "exception": false,
          "start_time": "2023-05-26T10:27:01.315429",
          "status": "completed"
        },
        "tags": [],
        "id": "3553dfb5",
        "outputId": "4427e403-39cb-4397-c3f3-d23bdccef362"
      },
      "outputs": [
        {
          "name": "stdout",
          "output_type": "stream",
          "text": [
            "Sum of missing values in stock prices in the training set\n",
            "10\n",
            "\n"
          ]
        }
      ],
      "source": [
        "print(f\"Sum of missing values in stock prices in the training set\\n{y.isna().sum()}\\n\")"
      ]
    },
    {
      "cell_type": "code",
      "execution_count": null,
      "id": "32c84c47",
      "metadata": {
        "execution": {
          "iopub.execute_input": "2023-05-26T10:27:01.353886Z",
          "iopub.status.busy": "2023-05-26T10:27:01.353470Z",
          "iopub.status.idle": "2023-05-26T10:27:01.360156Z",
          "shell.execute_reply": "2023-05-26T10:27:01.358383Z"
        },
        "papermill": {
          "duration": 0.019394,
          "end_time": "2023-05-26T10:27:01.363454",
          "exception": false,
          "start_time": "2023-05-26T10:27:01.344060",
          "status": "completed"
        },
        "tags": [],
        "id": "32c84c47"
      },
      "outputs": [],
      "source": [
        "#drop missing values\n",
        "y = y.dropna()"
      ]
    },
    {
      "cell_type": "markdown",
      "id": "34e58e6f",
      "metadata": {
        "papermill": {
          "duration": 0.007422,
          "end_time": "2023-05-26T10:27:01.380179",
          "exception": false,
          "start_time": "2023-05-26T10:27:01.372757",
          "status": "completed"
        },
        "tags": [],
        "id": "34e58e6f"
      },
      "source": [
        "****Identify the Trend and Seasonality****"
      ]
    },
    {
      "cell_type": "code",
      "execution_count": null,
      "id": "c42f0ac8",
      "metadata": {
        "execution": {
          "iopub.execute_input": "2023-05-26T10:27:01.399576Z",
          "iopub.status.busy": "2023-05-26T10:27:01.399124Z",
          "iopub.status.idle": "2023-05-26T10:27:01.796789Z",
          "shell.execute_reply": "2023-05-26T10:27:01.795590Z"
        },
        "papermill": {
          "duration": 0.412236,
          "end_time": "2023-05-26T10:27:01.800133",
          "exception": false,
          "start_time": "2023-05-26T10:27:01.387897",
          "status": "completed"
        },
        "tags": [],
        "id": "c42f0ac8",
        "outputId": "db3c1764-86f5-41fc-822e-3fef2e3505ef"
      },
      "outputs": [
        {
          "data": {
            "text/plain": [
              "Text(0.5, 1.0, 'Stock Prices')"
            ]
          },
          "execution_count": 10,
          "metadata": {},
          "output_type": "execute_result"
        },
        {
          "data": {
            "image/png": "[encoded data removed]",
            "text/plain": [
              "<Figure size 640x480 with 1 Axes>"
            ]
          },
          "metadata": {},
          "output_type": "display_data"
        }
      ],
      "source": [
        "#compute a moving average for trend estimation\n",
        "moving_average = y.rolling(\n",
        "    window=1460,\n",
        "    center=True, #puts the average at the centre of the window\n",
        "    min_periods= 730 #choose about half of the window size\n",
        ").mean()\n",
        "\n",
        "#plot the values\n",
        "ax = moving_average.plot(linewidth=2)\n",
        "ax.set_title(\"Stock Prices\")"
      ]
    },
    {
      "cell_type": "code",
      "execution_count": null,
      "id": "d422ad87",
      "metadata": {
        "execution": {
          "iopub.execute_input": "2023-05-26T10:27:01.819854Z",
          "iopub.status.busy": "2023-05-26T10:27:01.819452Z",
          "iopub.status.idle": "2023-05-26T10:27:02.201728Z",
          "shell.execute_reply": "2023-05-26T10:27:02.200150Z"
        },
        "papermill": {
          "duration": 0.396052,
          "end_time": "2023-05-26T10:27:02.204871",
          "exception": false,
          "start_time": "2023-05-26T10:27:01.808819",
          "status": "completed"
        },
        "tags": [],
        "id": "d422ad87",
        "outputId": "c768e36e-05f5-4034-97cc-d37fd87de6ff"
      },
      "outputs": [
        {
          "name": "stderr",
          "output_type": "stream",
          "text": [
            "/tmp/ipykernel_20/4245826264.py:6: FutureWarning: Units 'M', 'Y' and 'y' do not represent unambiguous timedelta values and will be removed in a future version.\n",
            "  fs = pd.Timedelta(\"1Y\") / pd.Timedelta(\"1D\")\n"
          ]
        },
        {
          "data": {
            "text/plain": [
              "<AxesSubplot: title={'center': 'Periodogram'}, ylabel='Variance'>"
            ]
          },
          "execution_count": 11,
          "metadata": {},
          "output_type": "execute_result"
        },
        {
          "data": {
            "image/png": "[encoded data removed]",
            "text/plain": [
              "<Figure size 640x480 with 1 Axes>"
            ]
          },
          "metadata": {},
          "output_type": "display_data"
        }
      ],
      "source": [
        "#check for a year's seasonality \n",
        "plot_periodogram(y.loc[\"2012\"])\n"
      ]
    },
    {
      "cell_type": "markdown",
      "id": "4a1b7575",
      "metadata": {
        "papermill": {
          "duration": 0.008869,
          "end_time": "2023-05-26T10:27:02.223024",
          "exception": false,
          "start_time": "2023-05-26T10:27:02.214155",
          "status": "completed"
        },
        "tags": [],
        "id": "4a1b7575"
      },
      "source": [
        "**Create Features Based on the Information**"
      ]
    },
    {
      "cell_type": "code",
      "execution_count": null,
      "id": "4f9fb1d3",
      "metadata": {
        "execution": {
          "iopub.execute_input": "2023-05-26T10:27:02.243137Z",
          "iopub.status.busy": "2023-05-26T10:27:02.242734Z",
          "iopub.status.idle": "2023-05-26T10:27:02.297446Z",
          "shell.execute_reply": "2023-05-26T10:27:02.296466Z"
        },
        "papermill": {
          "duration": 0.070081,
          "end_time": "2023-05-26T10:27:02.302018",
          "exception": false,
          "start_time": "2023-05-26T10:27:02.231937",
          "status": "completed"
        },
        "tags": [],
        "id": "4f9fb1d3"
      },
      "outputs": [],
      "source": [
        "fourier = CalendarFourier(freq=\"A\", order=12)\n",
        "#make features\n",
        "dp = DeterministicProcess(\n",
        "    index=y.index, #dates from the training data\n",
        "    order=2, #the time dummy (trend)\n",
        "    seasonal=True,\n",
        "    additional_terms=[fourier],\n",
        "    drop=True #drop terms if necessary to avoid colinearity\n",
        ")\n",
        "\n",
        "#create a feature set for the dates given in y_train index\n",
        "X = dp.in_sample()"
      ]
    },
    {
      "cell_type": "markdown",
      "id": "a038992a",
      "metadata": {
        "papermill": {
          "duration": 0.024993,
          "end_time": "2023-05-26T10:27:02.358636",
          "exception": false,
          "start_time": "2023-05-26T10:27:02.333643",
          "status": "completed"
        },
        "tags": [],
        "id": "a038992a"
      },
      "source": [
        "# Sentiment Analysis"
      ]
    },
    {
      "cell_type": "code",
      "execution_count": null,
      "id": "80dec0da",
      "metadata": {
        "execution": {
          "iopub.execute_input": "2023-05-26T10:27:02.400811Z",
          "iopub.status.busy": "2023-05-26T10:27:02.400425Z",
          "iopub.status.idle": "2023-05-26T10:27:09.503660Z",
          "shell.execute_reply": "2023-05-26T10:27:09.502342Z"
        },
        "papermill": {
          "duration": 7.121782,
          "end_time": "2023-05-26T10:27:09.506309",
          "exception": false,
          "start_time": "2023-05-26T10:27:02.384527",
          "status": "completed"
        },
        "tags": [],
        "id": "80dec0da",
        "outputId": "5de5e2c7-a070-47b1-a36e-49c5a0038ee1"
      },
      "outputs": [
        {
          "data": {
            "text/plain": [
              "publish_date\n",
              "2001-04                 GTB; UTI Bank end mega-merger dreams\n",
              "2001-09            UTI Bank signs MoU with postal department\n",
              "2001-09           UTI Bank earns Rs 158 cr via pvt placement\n",
              "2001-12                             UTI bank ATM inaugurated\n",
              "2001-12             FFIs to acquire 26.01% stake in UTI Bank\n",
              "                                 ...                        \n",
              "2021-09    Axis Bank diversity charter to empower staff; ...\n",
              "2021-09    Future Generali CEO Munish Sharda to head Axis...\n",
              "2021-10                RBI nod for Axis Bank CEO's extension\n",
              "2021-12    Don't see need to extend deadline for Covid-hi...\n",
              "2021-12          Axis Bank is second largest in PoS machines\n",
              "Freq: M, Name: headline_text, Length: 220, dtype: object"
            ]
          },
          "execution_count": 13,
          "metadata": {},
          "output_type": "execute_result"
        }
      ],
      "source": [
        "#get the news that contains information on Axis bank or UTI bank(previous name)\n",
        "Axis_bool = news[\"headline_text\"].str.contains('|'.join([\"Axis bank\", \"uti bank\"]), case=False)\n",
        "Axis_news = news[Axis_bool][\"headline_text\"]\n",
        "Axis_news"
      ]
    },
    {
      "cell_type": "code",
      "execution_count": null,
      "id": "e8bc3a9e",
      "metadata": {
        "execution": {
          "iopub.execute_input": "2023-05-26T10:27:09.526448Z",
          "iopub.status.busy": "2023-05-26T10:27:09.526038Z",
          "iopub.status.idle": "2023-05-26T10:31:17.248378Z",
          "shell.execute_reply": "2023-05-26T10:31:17.246891Z"
        },
        "papermill": {
          "duration": 247.743267,
          "end_time": "2023-05-26T10:31:17.258766",
          "exception": false,
          "start_time": "2023-05-26T10:27:09.515499",
          "status": "completed"
        },
        "tags": [],
        "id": "e8bc3a9e",
        "outputId": "68eaf83d-56ff-4129-9cd4-32a62feb0496"
      },
      "outputs": [
        {
          "data": {
            "text/plain": [
              "'[0, 1, 1, 1, 1, 1, 0, 0, 1, 1, 1, 1, -1, 1, 1, 1, 1, 0, 0, 1][1, 0, 1, 1, 1, 0, -1, 1, 0, -1, -1, 1, -1, -1, 0, 0, 1, 1, 0, -1][0, -1, 1, 0, 1, 0, 1, 1, 1, 0, -1, -1, 0, 1, 1, 1, -1, 1, -1, 1][0, 1, 1, -1, 1, 0, 0, -1, 0, 1, 0, -1, -1, 1, -1, -1, 1, 1, 1, -1][1, -1, -1, 1, -1, 1, 1, 1, 0, 0, -1, 1, 1, -1, -1, 1, -1, -1, 1, 1][0, 1, 1, 0, -1, -1, -1, -1, -1, 1, 0, 1, 0, 0, 1, -1, -1, 0, 0, 1][1, -1, -1, 0, 1, 0, 1, -1, -1, -1, -1, -1, -1, -1, -1, -1, -1, -1, 1, -1][0, -1, 1, 0, -1, 1, -1, 0, -1, 1, 1, -1, -1, 1, 0, -1, -1, -1, -1, -1][0, -1, -1, -1, 1, 1, 0, 0, 1, -1, 1, -1, 1, 0, 0, 1, 1, -1, 1, 1][0, 1, 1, 1, 1, 1, -1, 1, 1, -1, 1, -1, 1, -1, 0, -1, -1, -1, 1, -1][0, 1, 0, 1, -1, -1, 0, 1, 0, -1, 1, 1, 1, 0, 1, 1, 1, 1, -1, 1]'"
            ]
          },
          "execution_count": 14,
          "metadata": {},
          "output_type": "execute_result"
        }
      ],
      "source": [
        "#convert the dataframe to a list and conduct a sentiment analysis in batches using ChatGPT\n",
        "#the free version only allows 3 requests per minute\n",
        "Axis_news_list = list(Axis_news)\n",
        "Axis_news_list = [item.replace(\"'\", '\"') for item in Axis_news_list] #replace double quotes with single\n",
        "Axis_news_list = [item.replace('\"','') for item in Axis_news_list] #remove double quotes from the list\n",
        "Axis_news_length = len(Axis_news) + 1\n",
        "start = 0\n",
        "response = \"\"\n",
        "\n",
        "for stop in range(20, Axis_news_length, 20):\n",
        "    batch = list(Axis_news_list[start:stop])\n",
        "    prompt = f\"\"\"\n",
        "    Find the sentiment for each sentence in the python list delimited with triple backticks.\n",
        "    Let your answer be in the form of a python list with a length of 20,\n",
        "    where each rating corresponds to each sentence in the list delimited with triple backticks.\n",
        "    Denote negative as -1, positive as 1, and neutral as 0\n",
        "    Take your time to find the sentiment of each sentence before giving an answer.\n",
        "    Let the list contain only the sentiment ratings.\n",
        "    ```{batch}```\n",
        "    \"\"\"\n",
        "    response = response + get_completion(prompt)\n",
        "    start = stop\n",
        "    time.sleep(20) \n",
        "response"
      ]
    },
    {
      "cell_type": "code",
      "execution_count": null,
      "id": "be75c9e6",
      "metadata": {
        "execution": {
          "iopub.execute_input": "2023-05-26T10:31:17.278570Z",
          "iopub.status.busy": "2023-05-26T10:31:17.278214Z",
          "iopub.status.idle": "2023-05-26T10:31:17.285162Z",
          "shell.execute_reply": "2023-05-26T10:31:17.283168Z"
        },
        "papermill": {
          "duration": 0.019575,
          "end_time": "2023-05-26T10:31:17.287457",
          "exception": false,
          "start_time": "2023-05-26T10:31:17.267882",
          "status": "completed"
        },
        "tags": [],
        "id": "be75c9e6",
        "outputId": "7866dfbb-f8a9-4188-82f3-3efbf6e4dd47"
      },
      "outputs": [
        {
          "data": {
            "text/plain": [
              "220"
            ]
          },
          "execution_count": 15,
          "metadata": {},
          "output_type": "execute_result"
        }
      ],
      "source": [
        "#change the response from a string to a list of numbers\n",
        "response = json.loads(response.replace('][',','))\n",
        "len(response)"
      ]
    },
    {
      "cell_type": "code",
      "execution_count": null,
      "id": "265d6b4a",
      "metadata": {
        "execution": {
          "iopub.execute_input": "2023-05-26T10:31:17.308964Z",
          "iopub.status.busy": "2023-05-26T10:31:17.308520Z",
          "iopub.status.idle": "2023-05-26T10:31:17.341603Z",
          "shell.execute_reply": "2023-05-26T10:31:17.340330Z"
        },
        "papermill": {
          "duration": 0.047421,
          "end_time": "2023-05-26T10:31:17.344083",
          "exception": false,
          "start_time": "2023-05-26T10:31:17.296662",
          "status": "completed"
        },
        "tags": [],
        "id": "265d6b4a"
      },
      "outputs": [],
      "source": [
        "#create a sentiment analysis dataset\n",
        "X2 = pd.DataFrame(response, index=Axis_news.index, columns=[\"Sentiment\"])\n",
        "\n",
        "#calculate the mean of the days that have more than one news story\n",
        "X2 = X2.groupby(X2.index).mean()\n",
        "\n",
        "#make training dataset the same length with the target\n",
        "y_temp = pd.DataFrame(y.copy())\n",
        "\n",
        "#change the index to have the same format as X2 \n",
        "y_temp.index = y_temp.index.to_timestamp().to_period(\"M\")\n",
        "X2 = y_temp.join(X2, on=\"Date\").fillna(0.0)\n",
        "\n",
        "#drop the y column and make the index the same as y\n",
        "X2.drop(\"Adj Close\", axis=1, inplace=True)\n",
        "X2.index = y.index\n",
        "\n",
        "#add X2 to X\n",
        "X[\"Sentiment\"] = X2[\"Sentiment\"]\n",
        "\n",
        "#since the news dataset ends in 2021, drop future dates from the training and target datasets\n",
        "rows_to_drop = X.loc[\"2022-01-01\":, :]\n",
        "X.drop(rows_to_drop.index, axis=0, inplace=True)\n",
        "y.drop(rows_to_drop.index, axis=0, inplace=True)"
      ]
    },
    {
      "cell_type": "markdown",
      "id": "4d0bdd58",
      "metadata": {
        "papermill": {
          "duration": 0.010825,
          "end_time": "2023-05-26T10:31:17.363675",
          "exception": false,
          "start_time": "2023-05-26T10:31:17.352850",
          "status": "completed"
        },
        "tags": [],
        "id": "4d0bdd58"
      },
      "source": [
        "# Hybrid Model"
      ]
    },
    {
      "cell_type": "code",
      "execution_count": null,
      "id": "0bdf8ce0",
      "metadata": {
        "execution": {
          "iopub.execute_input": "2023-05-26T10:31:17.385246Z",
          "iopub.status.busy": "2023-05-26T10:31:17.384738Z",
          "iopub.status.idle": "2023-05-26T10:31:17.391165Z",
          "shell.execute_reply": "2023-05-26T10:31:17.389527Z"
        },
        "papermill": {
          "duration": 0.020043,
          "end_time": "2023-05-26T10:31:17.393759",
          "exception": false,
          "start_time": "2023-05-26T10:31:17.373716",
          "status": "completed"
        },
        "tags": [],
        "id": "0bdf8ce0"
      },
      "outputs": [],
      "source": [
        "#create a boosted hybrid class\n",
        "class BoostedHybrid:\n",
        "    def __init__(self, model_1, model_2):\n",
        "        self.model_1 = model_1\n",
        "        self.model_2 = model_2\n",
        "        self.y_index = None #store the index from fit model\n",
        "\n",
        "    "
      ]
    },
    {
      "cell_type": "markdown",
      "id": "7dffa8fd",
      "metadata": {
        "papermill": {
          "duration": 0.008506,
          "end_time": "2023-05-26T10:31:17.411881",
          "exception": false,
          "start_time": "2023-05-26T10:31:17.403375",
          "status": "completed"
        },
        "tags": [],
        "id": "7dffa8fd"
      },
      "source": [
        "**Define Methods for the Hybrid Model**"
      ]
    },
    {
      "cell_type": "code",
      "execution_count": null,
      "id": "3dfbdb95",
      "metadata": {
        "execution": {
          "iopub.execute_input": "2023-05-26T10:31:17.433522Z",
          "iopub.status.busy": "2023-05-26T10:31:17.431968Z",
          "iopub.status.idle": "2023-05-26T10:31:17.440375Z",
          "shell.execute_reply": "2023-05-26T10:31:17.439403Z"
        },
        "papermill": {
          "duration": 0.022068,
          "end_time": "2023-05-26T10:31:17.442970",
          "exception": false,
          "start_time": "2023-05-26T10:31:17.420902",
          "status": "completed"
        },
        "tags": [],
        "id": "3dfbdb95"
      },
      "outputs": [],
      "source": [
        "def fit(self, X_1, X_2, y):\n",
        "    #train the first model on X_1 and y, and store the results\n",
        "    self.model_1.fit(X_1, y)\n",
        "    \n",
        "    y_fit = pd.Series(\n",
        "        self.model_1.predict(X_1),\n",
        "        index=X_1.index\n",
        "    )\n",
        "    \n",
        "    #train the second model on X_2 and y_resid, and store the results\n",
        "    y_resid = y - y_fit\n",
        "    self.model_2.fit(X_2, y_resid)\n",
        "    \n",
        "#add the method to the class\n",
        "BoostedHybrid.fit = fit\n",
        "    \n",
        "def predict(self, X_1, X_2):\n",
        "    y_pred = pd.Series(\n",
        "        self.model_1.predict(X_1),\n",
        "        index=X_1.index\n",
        "    )\n",
        "    \n",
        "    y_pred += self.model_2.predict(X_2)\n",
        "    return y_pred\n",
        "\n",
        "#add the method to the class\n",
        "BoostedHybrid.predict = predict"
      ]
    },
    {
      "cell_type": "markdown",
      "id": "3c3d37d6",
      "metadata": {
        "papermill": {
          "duration": 0.008912,
          "end_time": "2023-05-26T10:31:17.461757",
          "exception": false,
          "start_time": "2023-05-26T10:31:17.452845",
          "status": "completed"
        },
        "tags": [],
        "id": "3c3d37d6"
      },
      "source": [
        "**Train Hybrid Models and Compare the Results**"
      ]
    },
    {
      "cell_type": "code",
      "execution_count": null,
      "id": "60f59e61",
      "metadata": {
        "execution": {
          "iopub.execute_input": "2023-05-26T10:31:17.482070Z",
          "iopub.status.busy": "2023-05-26T10:31:17.481633Z",
          "iopub.status.idle": "2023-05-26T10:31:17.527137Z",
          "shell.execute_reply": "2023-05-26T10:31:17.525840Z"
        },
        "papermill": {
          "duration": 0.057925,
          "end_time": "2023-05-26T10:31:17.529121",
          "exception": false,
          "start_time": "2023-05-26T10:31:17.471196",
          "status": "completed"
        },
        "tags": [],
        "id": "60f59e61",
        "outputId": "0055d152-4068-4b44-99d1-dc9711493840"
      },
      "outputs": [
        {
          "data": {
            "text/html": [
              "<div>\n",
              "<style scoped>\n",
              "    .dataframe tbody tr th:only-of-type {\n",
              "        vertical-align: middle;\n",
              "    }\n",
              "\n",
              "    .dataframe tbody tr th {\n",
              "        vertical-align: top;\n",
              "    }\n",
              "\n",
              "    .dataframe thead th {\n",
              "        text-align: right;\n",
              "    }\n",
              "</style>\n",
              "<table border=\"1\" class=\"dataframe\">\n",
              "  <thead>\n",
              "    <tr style=\"text-align: right;\">\n",
              "      <th></th>\n",
              "      <th>trend</th>\n",
              "      <th>trend_squared</th>\n",
              "      <th>s(1,7)</th>\n",
              "      <th>s(2,7)</th>\n",
              "      <th>s(3,7)</th>\n",
              "      <th>s(4,7)</th>\n",
              "      <th>s(5,7)</th>\n",
              "      <th>s(6,7)</th>\n",
              "      <th>s(7,7)</th>\n",
              "      <th>sin(1,freq=A-DEC)</th>\n",
              "      <th>...</th>\n",
              "      <th>cos(8,freq=A-DEC)</th>\n",
              "      <th>sin(9,freq=A-DEC)</th>\n",
              "      <th>cos(9,freq=A-DEC)</th>\n",
              "      <th>sin(10,freq=A-DEC)</th>\n",
              "      <th>cos(10,freq=A-DEC)</th>\n",
              "      <th>sin(11,freq=A-DEC)</th>\n",
              "      <th>cos(11,freq=A-DEC)</th>\n",
              "      <th>sin(12,freq=A-DEC)</th>\n",
              "      <th>cos(12,freq=A-DEC)</th>\n",
              "      <th>Sentiment</th>\n",
              "    </tr>\n",
              "    <tr>\n",
              "      <th>Date</th>\n",
              "      <th></th>\n",
              "      <th></th>\n",
              "      <th></th>\n",
              "      <th></th>\n",
              "      <th></th>\n",
              "      <th></th>\n",
              "      <th></th>\n",
              "      <th></th>\n",
              "      <th></th>\n",
              "      <th></th>\n",
              "      <th></th>\n",
              "      <th></th>\n",
              "      <th></th>\n",
              "      <th></th>\n",
              "      <th></th>\n",
              "      <th></th>\n",
              "      <th></th>\n",
              "      <th></th>\n",
              "      <th></th>\n",
              "      <th></th>\n",
              "      <th></th>\n",
              "    </tr>\n",
              "  </thead>\n",
              "  <tbody>\n",
              "    <tr>\n",
              "      <th>2001-01-01</th>\n",
              "      <td>1.0</td>\n",
              "      <td>1.0</td>\n",
              "      <td>1.0</td>\n",
              "      <td>0.0</td>\n",
              "      <td>0.0</td>\n",
              "      <td>0.0</td>\n",
              "      <td>0.0</td>\n",
              "      <td>0.0</td>\n",
              "      <td>0.0</td>\n",
              "      <td>0.000000</td>\n",
              "      <td>...</td>\n",
              "      <td>1.000000</td>\n",
              "      <td>0.000000</td>\n",
              "      <td>1.000000</td>\n",
              "      <td>0.000000</td>\n",
              "      <td>1.000000</td>\n",
              "      <td>0.000000</td>\n",
              "      <td>1.000000</td>\n",
              "      <td>0.000000</td>\n",
              "      <td>1.000000</td>\n",
              "      <td>0.0</td>\n",
              "    </tr>\n",
              "    <tr>\n",
              "      <th>2001-01-02</th>\n",
              "      <td>2.0</td>\n",
              "      <td>4.0</td>\n",
              "      <td>0.0</td>\n",
              "      <td>1.0</td>\n",
              "      <td>0.0</td>\n",
              "      <td>0.0</td>\n",
              "      <td>0.0</td>\n",
              "      <td>0.0</td>\n",
              "      <td>0.0</td>\n",
              "      <td>0.017213</td>\n",
              "      <td>...</td>\n",
              "      <td>0.990532</td>\n",
              "      <td>0.154309</td>\n",
              "      <td>0.988023</td>\n",
              "      <td>0.171293</td>\n",
              "      <td>0.985220</td>\n",
              "      <td>0.188227</td>\n",
              "      <td>0.982126</td>\n",
              "      <td>0.205104</td>\n",
              "      <td>0.978740</td>\n",
              "      <td>0.0</td>\n",
              "    </tr>\n",
              "    <tr>\n",
              "      <th>2001-01-03</th>\n",
              "      <td>3.0</td>\n",
              "      <td>9.0</td>\n",
              "      <td>0.0</td>\n",
              "      <td>0.0</td>\n",
              "      <td>1.0</td>\n",
              "      <td>0.0</td>\n",
              "      <td>0.0</td>\n",
              "      <td>0.0</td>\n",
              "      <td>0.0</td>\n",
              "      <td>0.034422</td>\n",
              "      <td>...</td>\n",
              "      <td>0.962309</td>\n",
              "      <td>0.304921</td>\n",
              "      <td>0.952378</td>\n",
              "      <td>0.337523</td>\n",
              "      <td>0.941317</td>\n",
              "      <td>0.369725</td>\n",
              "      <td>0.929141</td>\n",
              "      <td>0.401488</td>\n",
              "      <td>0.915864</td>\n",
              "      <td>0.0</td>\n",
              "    </tr>\n",
              "    <tr>\n",
              "      <th>2001-01-04</th>\n",
              "      <td>4.0</td>\n",
              "      <td>16.0</td>\n",
              "      <td>0.0</td>\n",
              "      <td>0.0</td>\n",
              "      <td>0.0</td>\n",
              "      <td>1.0</td>\n",
              "      <td>0.0</td>\n",
              "      <td>0.0</td>\n",
              "      <td>0.0</td>\n",
              "      <td>0.051620</td>\n",
              "      <td>...</td>\n",
              "      <td>0.915864</td>\n",
              "      <td>0.448229</td>\n",
              "      <td>0.893919</td>\n",
              "      <td>0.493776</td>\n",
              "      <td>0.869589</td>\n",
              "      <td>0.538005</td>\n",
              "      <td>0.842942</td>\n",
              "      <td>0.580800</td>\n",
              "      <td>0.814046</td>\n",
              "      <td>0.0</td>\n",
              "    </tr>\n",
              "    <tr>\n",
              "      <th>2001-01-05</th>\n",
              "      <td>5.0</td>\n",
              "      <td>25.0</td>\n",
              "      <td>0.0</td>\n",
              "      <td>0.0</td>\n",
              "      <td>0.0</td>\n",
              "      <td>0.0</td>\n",
              "      <td>1.0</td>\n",
              "      <td>0.0</td>\n",
              "      <td>0.0</td>\n",
              "      <td>0.068802</td>\n",
              "      <td>...</td>\n",
              "      <td>0.852078</td>\n",
              "      <td>0.580800</td>\n",
              "      <td>0.814046</td>\n",
              "      <td>0.635432</td>\n",
              "      <td>0.772157</td>\n",
              "      <td>0.687053</td>\n",
              "      <td>0.726608</td>\n",
              "      <td>0.735417</td>\n",
              "      <td>0.677615</td>\n",
              "      <td>0.0</td>\n",
              "    </tr>\n",
              "    <tr>\n",
              "      <th>...</th>\n",
              "      <td>...</td>\n",
              "      <td>...</td>\n",
              "      <td>...</td>\n",
              "      <td>...</td>\n",
              "      <td>...</td>\n",
              "      <td>...</td>\n",
              "      <td>...</td>\n",
              "      <td>...</td>\n",
              "      <td>...</td>\n",
              "      <td>...</td>\n",
              "      <td>...</td>\n",
              "      <td>...</td>\n",
              "      <td>...</td>\n",
              "      <td>...</td>\n",
              "      <td>...</td>\n",
              "      <td>...</td>\n",
              "      <td>...</td>\n",
              "      <td>...</td>\n",
              "      <td>...</td>\n",
              "      <td>...</td>\n",
              "      <td>...</td>\n",
              "    </tr>\n",
              "    <tr>\n",
              "      <th>2021-12-27</th>\n",
              "      <td>5233.0</td>\n",
              "      <td>27384289.0</td>\n",
              "      <td>0.0</td>\n",
              "      <td>0.0</td>\n",
              "      <td>0.0</td>\n",
              "      <td>1.0</td>\n",
              "      <td>0.0</td>\n",
              "      <td>0.0</td>\n",
              "      <td>0.0</td>\n",
              "      <td>-0.085965</td>\n",
              "      <td>...</td>\n",
              "      <td>0.772157</td>\n",
              "      <td>-0.699458</td>\n",
              "      <td>0.714673</td>\n",
              "      <td>-0.758306</td>\n",
              "      <td>0.651899</td>\n",
              "      <td>-0.811539</td>\n",
              "      <td>0.584298</td>\n",
              "      <td>-0.858764</td>\n",
              "      <td>0.512371</td>\n",
              "      <td>0.0</td>\n",
              "    </tr>\n",
              "    <tr>\n",
              "      <th>2021-12-28</th>\n",
              "      <td>5234.0</td>\n",
              "      <td>27394756.0</td>\n",
              "      <td>0.0</td>\n",
              "      <td>0.0</td>\n",
              "      <td>0.0</td>\n",
              "      <td>0.0</td>\n",
              "      <td>1.0</td>\n",
              "      <td>0.0</td>\n",
              "      <td>0.0</td>\n",
              "      <td>-0.068802</td>\n",
              "      <td>...</td>\n",
              "      <td>0.852078</td>\n",
              "      <td>-0.580800</td>\n",
              "      <td>0.814046</td>\n",
              "      <td>-0.635432</td>\n",
              "      <td>0.772157</td>\n",
              "      <td>-0.687053</td>\n",
              "      <td>0.726608</td>\n",
              "      <td>-0.735417</td>\n",
              "      <td>0.677615</td>\n",
              "      <td>0.0</td>\n",
              "    </tr>\n",
              "    <tr>\n",
              "      <th>2021-12-29</th>\n",
              "      <td>5235.0</td>\n",
              "      <td>27405225.0</td>\n",
              "      <td>0.0</td>\n",
              "      <td>0.0</td>\n",
              "      <td>0.0</td>\n",
              "      <td>0.0</td>\n",
              "      <td>0.0</td>\n",
              "      <td>1.0</td>\n",
              "      <td>0.0</td>\n",
              "      <td>-0.051620</td>\n",
              "      <td>...</td>\n",
              "      <td>0.915864</td>\n",
              "      <td>-0.448229</td>\n",
              "      <td>0.893919</td>\n",
              "      <td>-0.493776</td>\n",
              "      <td>0.869589</td>\n",
              "      <td>-0.538005</td>\n",
              "      <td>0.842942</td>\n",
              "      <td>-0.580800</td>\n",
              "      <td>0.814046</td>\n",
              "      <td>0.0</td>\n",
              "    </tr>\n",
              "    <tr>\n",
              "      <th>2021-12-30</th>\n",
              "      <td>5236.0</td>\n",
              "      <td>27415696.0</td>\n",
              "      <td>0.0</td>\n",
              "      <td>0.0</td>\n",
              "      <td>0.0</td>\n",
              "      <td>0.0</td>\n",
              "      <td>0.0</td>\n",
              "      <td>0.0</td>\n",
              "      <td>1.0</td>\n",
              "      <td>-0.034422</td>\n",
              "      <td>...</td>\n",
              "      <td>0.962309</td>\n",
              "      <td>-0.304921</td>\n",
              "      <td>0.952378</td>\n",
              "      <td>-0.337523</td>\n",
              "      <td>0.941317</td>\n",
              "      <td>-0.369725</td>\n",
              "      <td>0.929141</td>\n",
              "      <td>-0.401488</td>\n",
              "      <td>0.915864</td>\n",
              "      <td>0.0</td>\n",
              "    </tr>\n",
              "    <tr>\n",
              "      <th>2021-12-31</th>\n",
              "      <td>5237.0</td>\n",
              "      <td>27426169.0</td>\n",
              "      <td>1.0</td>\n",
              "      <td>0.0</td>\n",
              "      <td>0.0</td>\n",
              "      <td>0.0</td>\n",
              "      <td>0.0</td>\n",
              "      <td>0.0</td>\n",
              "      <td>0.0</td>\n",
              "      <td>-0.017213</td>\n",
              "      <td>...</td>\n",
              "      <td>0.990532</td>\n",
              "      <td>-0.154309</td>\n",
              "      <td>0.988023</td>\n",
              "      <td>-0.171293</td>\n",
              "      <td>0.985220</td>\n",
              "      <td>-0.188227</td>\n",
              "      <td>0.982126</td>\n",
              "      <td>-0.205104</td>\n",
              "      <td>0.978740</td>\n",
              "      <td>0.0</td>\n",
              "    </tr>\n",
              "  </tbody>\n",
              "</table>\n",
              "<p>5237 rows × 34 columns</p>\n",
              "</div>"
            ],
            "text/plain": [
              "             trend  trend_squared  s(1,7)  s(2,7)  s(3,7)  s(4,7)  s(5,7)  \\\n",
              "Date                                                                        \n",
              "2001-01-01     1.0            1.0     1.0     0.0     0.0     0.0     0.0   \n",
              "2001-01-02     2.0            4.0     0.0     1.0     0.0     0.0     0.0   \n",
              "2001-01-03     3.0            9.0     0.0     0.0     1.0     0.0     0.0   \n",
              "2001-01-04     4.0           16.0     0.0     0.0     0.0     1.0     0.0   \n",
              "2001-01-05     5.0           25.0     0.0     0.0     0.0     0.0     1.0   \n",
              "...            ...            ...     ...     ...     ...     ...     ...   \n",
              "2021-12-27  5233.0     27384289.0     0.0     0.0     0.0     1.0     0.0   \n",
              "2021-12-28  5234.0     27394756.0     0.0     0.0     0.0     0.0     1.0   \n",
              "2021-12-29  5235.0     27405225.0     0.0     0.0     0.0     0.0     0.0   \n",
              "2021-12-30  5236.0     27415696.0     0.0     0.0     0.0     0.0     0.0   \n",
              "2021-12-31  5237.0     27426169.0     1.0     0.0     0.0     0.0     0.0   \n",
              "\n",
              "            s(6,7)  s(7,7)  sin(1,freq=A-DEC)  ...  cos(8,freq=A-DEC)  \\\n",
              "Date                                           ...                      \n",
              "2001-01-01     0.0     0.0           0.000000  ...           1.000000   \n",
              "2001-01-02     0.0     0.0           0.017213  ...           0.990532   \n",
              "2001-01-03     0.0     0.0           0.034422  ...           0.962309   \n",
              "2001-01-04     0.0     0.0           0.051620  ...           0.915864   \n",
              "2001-01-05     0.0     0.0           0.068802  ...           0.852078   \n",
              "...            ...     ...                ...  ...                ...   \n",
              "2021-12-27     0.0     0.0          -0.085965  ...           0.772157   \n",
              "2021-12-28     0.0     0.0          -0.068802  ...           0.852078   \n",
              "2021-12-29     1.0     0.0          -0.051620  ...           0.915864   \n",
              "2021-12-30     0.0     1.0          -0.034422  ...           0.962309   \n",
              "2021-12-31     0.0     0.0          -0.017213  ...           0.990532   \n",
              "\n",
              "            sin(9,freq=A-DEC)  cos(9,freq=A-DEC)  sin(10,freq=A-DEC)  \\\n",
              "Date                                                                   \n",
              "2001-01-01           0.000000           1.000000            0.000000   \n",
              "2001-01-02           0.154309           0.988023            0.171293   \n",
              "2001-01-03           0.304921           0.952378            0.337523   \n",
              "2001-01-04           0.448229           0.893919            0.493776   \n",
              "2001-01-05           0.580800           0.814046            0.635432   \n",
              "...                       ...                ...                 ...   \n",
              "2021-12-27          -0.699458           0.714673           -0.758306   \n",
              "2021-12-28          -0.580800           0.814046           -0.635432   \n",
              "2021-12-29          -0.448229           0.893919           -0.493776   \n",
              "2021-12-30          -0.304921           0.952378           -0.337523   \n",
              "2021-12-31          -0.154309           0.988023           -0.171293   \n",
              "\n",
              "            cos(10,freq=A-DEC)  sin(11,freq=A-DEC)  cos(11,freq=A-DEC)  \\\n",
              "Date                                                                     \n",
              "2001-01-01            1.000000            0.000000            1.000000   \n",
              "2001-01-02            0.985220            0.188227            0.982126   \n",
              "2001-01-03            0.941317            0.369725            0.929141   \n",
              "2001-01-04            0.869589            0.538005            0.842942   \n",
              "2001-01-05            0.772157            0.687053            0.726608   \n",
              "...                        ...                 ...                 ...   \n",
              "2021-12-27            0.651899           -0.811539            0.584298   \n",
              "2021-12-28            0.772157           -0.687053            0.726608   \n",
              "2021-12-29            0.869589           -0.538005            0.842942   \n",
              "2021-12-30            0.941317           -0.369725            0.929141   \n",
              "2021-12-31            0.985220           -0.188227            0.982126   \n",
              "\n",
              "            sin(12,freq=A-DEC)  cos(12,freq=A-DEC)  Sentiment  \n",
              "Date                                                           \n",
              "2001-01-01            0.000000            1.000000        0.0  \n",
              "2001-01-02            0.205104            0.978740        0.0  \n",
              "2001-01-03            0.401488            0.915864        0.0  \n",
              "2001-01-04            0.580800            0.814046        0.0  \n",
              "2001-01-05            0.735417            0.677615        0.0  \n",
              "...                        ...                 ...        ...  \n",
              "2021-12-27           -0.858764            0.512371        0.0  \n",
              "2021-12-28           -0.735417            0.677615        0.0  \n",
              "2021-12-29           -0.580800            0.814046        0.0  \n",
              "2021-12-30           -0.401488            0.915864        0.0  \n",
              "2021-12-31           -0.205104            0.978740        0.0  \n",
              "\n",
              "[5237 rows x 34 columns]"
            ]
          },
          "execution_count": 19,
          "metadata": {},
          "output_type": "execute_result"
        }
      ],
      "source": [
        "X"
      ]
    },
    {
      "cell_type": "code",
      "execution_count": null,
      "id": "fc11d0c2",
      "metadata": {
        "execution": {
          "iopub.execute_input": "2023-05-26T10:31:17.552851Z",
          "iopub.status.busy": "2023-05-26T10:31:17.552213Z",
          "iopub.status.idle": "2023-05-26T10:31:17.558755Z",
          "shell.execute_reply": "2023-05-26T10:31:17.557244Z"
        },
        "papermill": {
          "duration": 0.021745,
          "end_time": "2023-05-26T10:31:17.561937",
          "exception": false,
          "start_time": "2023-05-26T10:31:17.540192",
          "status": "completed"
        },
        "tags": [],
        "id": "fc11d0c2"
      },
      "outputs": [],
      "source": [
        "#let the first model learn the trend, and the second the seasonality\n",
        "season_start_index = 2\n",
        "X1 = X.iloc[:, :season_start_index].copy()\n",
        "X2 = X.iloc[:, season_start_index:].copy()"
      ]
    },
    {
      "cell_type": "code",
      "execution_count": null,
      "id": "1b87c99e",
      "metadata": {
        "execution": {
          "iopub.execute_input": "2023-05-26T10:31:17.583012Z",
          "iopub.status.busy": "2023-05-26T10:31:17.582617Z",
          "iopub.status.idle": "2023-05-26T10:31:17.596357Z",
          "shell.execute_reply": "2023-05-26T10:31:17.594834Z"
        },
        "papermill": {
          "duration": 0.026966,
          "end_time": "2023-05-26T10:31:17.598749",
          "exception": false,
          "start_time": "2023-05-26T10:31:17.571783",
          "status": "completed"
        },
        "tags": [],
        "id": "1b87c99e"
      },
      "outputs": [],
      "source": [
        "#split the dataset into train, validation, and test\n",
        "idx_, idx_test = train_test_split(y.index, test_size=365, shuffle=False)\n",
        "idx_train, idx_valid = train_test_split(idx_, test_size=355, shuffle=False)\n",
        "\n",
        "X1_train, X1_valid, X1_test= X1.loc[idx_train], X1.loc[idx_valid], X1.loc[idx_test]\n",
        "X2_train, X2_valid, X2_test = X2.loc[idx_train], X2.loc[idx_valid], X2.loc[idx_test]\n",
        "\n",
        "y_train, y_valid, y_test = y.loc[idx_train], y.loc[idx_valid], y.loc[idx_test]"
      ]
    },
    {
      "cell_type": "code",
      "execution_count": null,
      "id": "0bd2e30f",
      "metadata": {
        "execution": {
          "iopub.execute_input": "2023-05-26T10:31:17.619491Z",
          "iopub.status.busy": "2023-05-26T10:31:17.618996Z",
          "iopub.status.idle": "2023-05-26T10:31:17.624534Z",
          "shell.execute_reply": "2023-05-26T10:31:17.622849Z"
        },
        "papermill": {
          "duration": 0.019093,
          "end_time": "2023-05-26T10:31:17.627285",
          "exception": false,
          "start_time": "2023-05-26T10:31:17.608192",
          "status": "completed"
        },
        "tags": [],
        "id": "0bd2e30f"
      },
      "outputs": [],
      "source": [
        "model_1 = BoostedHybrid(LinearRegression(), XGBRegressor())\n",
        "model_2 = BoostedHybrid(LinearRegression(), KNeighborsRegressor())"
      ]
    },
    {
      "cell_type": "code",
      "execution_count": null,
      "id": "8bfe5527",
      "metadata": {
        "execution": {
          "iopub.execute_input": "2023-05-26T10:31:17.649484Z",
          "iopub.status.busy": "2023-05-26T10:31:17.649060Z",
          "iopub.status.idle": "2023-05-26T10:31:18.263617Z",
          "shell.execute_reply": "2023-05-26T10:31:18.262817Z"
        },
        "papermill": {
          "duration": 0.627358,
          "end_time": "2023-05-26T10:31:18.265433",
          "exception": false,
          "start_time": "2023-05-26T10:31:17.638075",
          "status": "completed"
        },
        "tags": [],
        "id": "8bfe5527",
        "outputId": "465cd5b7-31bf-489b-967e-6d0e2dd4b934"
      },
      "outputs": [
        {
          "name": "stdout",
          "output_type": "stream",
          "text": [
            "Model1's Predictions\n",
            "Valid 126.82738787944999\n",
            "\n",
            "Model2's Predictions\n",
            "Valid 124.62292988982541\n"
          ]
        }
      ],
      "source": [
        "#compare the models\n",
        "model_1.fit(X1_train, X2_train, y_train)\n",
        "y_pred_valid = model_1.predict(X1_valid, X2_valid).clip(0.0) #min threshold of predicted values\n",
        "\n",
        "print(\"Model1's Predictions\")\n",
        "print(f\"Valid {mean_absolute_error(y_valid, y_pred_valid)}\\n\")\n",
        "\n",
        "model_2.fit(X1_train, X2_train, y_train)\n",
        "y_pred_valid = model_2.predict(X1_valid, X2_valid).clip(0.0)\n",
        "\n",
        "print(\"Model2's Predictions\")\n",
        "print(f\"Valid {mean_absolute_error(y_valid, y_pred_valid)}\")\n",
        "\n"
      ]
    },
    {
      "cell_type": "code",
      "execution_count": null,
      "id": "426ddc20",
      "metadata": {
        "execution": {
          "iopub.execute_input": "2023-05-26T10:31:18.286627Z",
          "iopub.status.busy": "2023-05-26T10:31:18.285728Z",
          "iopub.status.idle": "2023-05-26T10:31:18.317178Z",
          "shell.execute_reply": "2023-05-26T10:31:18.316157Z"
        },
        "papermill": {
          "duration": 0.044127,
          "end_time": "2023-05-26T10:31:18.319065",
          "exception": false,
          "start_time": "2023-05-26T10:31:18.274938",
          "status": "completed"
        },
        "tags": [],
        "id": "426ddc20",
        "outputId": "24952ab1-e58f-4bec-b7c0-d9740678ed08"
      },
      "outputs": [
        {
          "data": {
            "text/plain": [
              "121.70424562531097"
            ]
          },
          "execution_count": 24,
          "metadata": {},
          "output_type": "execute_result"
        }
      ],
      "source": [
        "#choose the better model to find predictions for the test dataset\n",
        "y_pred_test = model_2.predict(X1_test, X2_test).clip(0.0)\n",
        "mean_absolute_error(y_test, y_pred_test)"
      ]
    }
  ],
  "metadata": {
    "kernelspec": {
      "display_name": "Python 3",
      "language": "python",
      "name": "python3"
    },
    "language_info": {
      "codemirror_mode": {
        "name": "ipython",
        "version": 3
      },
      "file_extension": ".py",
      "mimetype": "text/x-python",
      "name": "python",
      "nbconvert_exporter": "python",
      "pygments_lexer": "ipython3",
      "version": "3.10.10"
    },
    "papermill": {
      "default_parameters": {},
      "duration": 296.811237,
      "end_time": "2023-05-26T10:31:20.541880",
      "environment_variables": {},
      "exception": null,
      "input_path": "__notebook__.ipynb",
      "output_path": "__notebook__.ipynb",
      "parameters": {},
      "start_time": "2023-05-26T10:26:23.730643",
      "version": "2.4.0"
    },
    "colab": {
      "provenance": [],
      "include_colab_link": true
    }
  },
  "nbformat": 4,
  "nbformat_minor": 5
}